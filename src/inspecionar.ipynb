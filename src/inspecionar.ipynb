{
 "cells": [
  {
   "cell_type": "code",
   "execution_count": 39,
   "metadata": {},
   "outputs": [],
   "source": [
    "import httpx\n",
    "import pandas as pd\n",
    "from bs4 import BeautifulSoup"
   ]
  },
  {
   "cell_type": "code",
   "execution_count": 2,
   "metadata": {},
   "outputs": [],
   "source": [
    "links = []\n",
    "with open('Atlantico_Sul_N_NE.txt', encoding='utf-8') as file_:\n",
    "    links = file_.read().split('\\n')"
   ]
  },
  {
   "cell_type": "code",
   "execution_count": 3,
   "metadata": {},
   "outputs": [
    {
     "data": {
      "text/plain": [
       "'https://siagasweb.sgb.gov.br/layout/detalhe.php?ponto=1500000001'"
      ]
     },
     "execution_count": 3,
     "metadata": {},
     "output_type": "execute_result"
    }
   ],
   "source": [
    "links[0]"
   ]
  },
  {
   "cell_type": "code",
   "execution_count": null,
   "metadata": {},
   "outputs": [],
   "source": [
    "async with httpx.AsyncClient() as client:\n",
    "    r = await client.get(links[0])\n",
    "    soup = BeautifulSoup(r.text, features='lxml')\n",
    "    with open('pagina.html', 'w', encoding='utf-8') as html:\n",
    "        pagina = str(soup.prettify())\n",
    "        html.write(pagina)\n",
    "        print(pagina)"
   ]
  },
  {
   "cell_type": "code",
   "execution_count": 41,
   "metadata": {},
   "outputs": [
    {
     "name": "stdout",
     "output_type": "stream",
     "text": [
      "[]\n"
     ]
    },
    {
     "data": {
      "text/html": [
       "<div>\n",
       "<style scoped>\n",
       "    .dataframe tbody tr th:only-of-type {\n",
       "        vertical-align: middle;\n",
       "    }\n",
       "\n",
       "    .dataframe tbody tr th {\n",
       "        vertical-align: top;\n",
       "    }\n",
       "\n",
       "    .dataframe thead th {\n",
       "        text-align: right;\n",
       "    }\n",
       "</style>\n",
       "<table border=\"1\" class=\"dataframe\">\n",
       "  <thead>\n",
       "    <tr style=\"text-align: right;\">\n",
       "      <th></th>\n",
       "      <th>Nome:</th>\n",
       "      <th>Data da Instalação:</th>\n",
       "      <th>Proprietário:</th>\n",
       "      <th>Natureza do Ponto:</th>\n",
       "      <th>Uso da Água:</th>\n",
       "      <th>Cota do Terreno (m):</th>\n",
       "      <th>Localidade:</th>\n",
       "      <th>UTM (Norte/Sul):</th>\n",
       "      <th>UTM (Leste/Oeste):</th>\n",
       "      <th>Latitude (GGMMSS):</th>\n",
       "      <th>Longitude (GGMMSS):</th>\n",
       "      <th>Bacia Hidrográfica:</th>\n",
       "      <th>Subbacia Hidrográfica:</th>\n",
       "      <th>Data:</th>\n",
       "    </tr>\n",
       "  </thead>\n",
       "  <tbody>\n",
       "    <tr>\n",
       "      <th>0</th>\n",
       "      <td>XAN-001-PA</td>\n",
       "      <td></td>\n",
       "      <td>Alberto  César  Jaime da  Fonseca</td>\n",
       "      <td>Poço tubular</td>\n",
       "      <td>Abastecimento doméstico</td>\n",
       "      <td>0</td>\n",
       "      <td>Ananindeua</td>\n",
       "      <td>9847983</td>\n",
       "      <td>788245</td>\n",
       "      <td>012226</td>\n",
       "      <td>482435</td>\n",
       "      <td>Atlantico Sul-N/NE</td>\n",
       "      <td>Rios Gurupi, Turiaçu e outros</td>\n",
       "      <td>05/04/1995</td>\n",
       "    </tr>\n",
       "  </tbody>\n",
       "</table>\n",
       "</div>"
      ],
      "text/plain": [
       "          Nome:  Data da Instalação:                        Proprietário:  \\\n",
       "0    XAN-001-PA                         Alberto  César  Jaime da  Fonseca   \n",
       "\n",
       "   Natureza do Ponto:               Uso da Água:  Cota do Terreno (m):  \\\n",
       "0        Poço tubular    Abastecimento doméstico                     0   \n",
       "\n",
       "    Localidade:  UTM (Norte/Sul):  UTM (Leste/Oeste):  Latitude (GGMMSS):  \\\n",
       "0    Ananindeua           9847983              788245              012226   \n",
       "\n",
       "   Longitude (GGMMSS):   Bacia Hidrográfica:           Subbacia Hidrográfica:  \\\n",
       "0               482435    Atlantico Sul-N/NE    Rios Gurupi, Turiaçu e outros   \n",
       "\n",
       "          Data:  \n",
       "0    05/04/1995  "
      ]
     },
     "execution_count": 41,
     "metadata": {},
     "output_type": "execute_result"
    }
   ],
   "source": [
    "tabelas = soup.select('#newsContent')\n",
    "columns = []\n",
    "data = []\n",
    "for table_row in tabelas[0].select('table')[0].select('tr'):\n",
    "    try:\n",
    "        table_data = table_row.select('td')\n",
    "        if table_data[0].has_attr('bgcolor'):\n",
    "            columns.append(table_data[0].text)\n",
    "            data.append(table_data[1].text)\n",
    "        # print(f\"Coluna:{table_row.select('td')[0].text}\\t\\t\\t\\tDado:{type(table_row.select('td')[1].text)}\")\n",
    "    except IndexError:\n",
    "        print(table_row.select('td'))\n",
    "pd.DataFrame([data], columns=columns)"
   ]
  },
  {
   "cell_type": "code",
   "execution_count": 31,
   "metadata": {},
   "outputs": [
    {
     "name": "stdout",
     "output_type": "stream",
     "text": [
      "<table bgcolor=\"#E0DDD8\" border=\"0\" cellpadding=\"1\" cellspacing=\"0\" id=\"newsContent\" style=\"BORDER-LEFT: #E0DDD8 2px outset; BORDER-BOTTOM: #E0DDD8 2px outset; BORDER-RIGHT: #000000 1px outset\" width=\"96%\">\n",
      "<tbody>\n",
      "<tr>\n",
      "<td width=\"5\"></td>\n",
      "<td width=\"100%\">\n",
      "<table border=\"0\" cellpadding=\"0\" cellspacing=\"1\" width=\"100%\">\n",
      "<tr>\n",
      "<td width=\"20%\"><font face=\"arial\" size=\"2\"><b>Dados Gerais:</b></font></td>\n",
      "<td width=\"80%\"></td>\n",
      "</tr>\n",
      "<tr>\n",
      "<td bgcolor=\"#F9F9F9\" width=\"20%\"> <font face=\"arial\" size=\"2\">Nome:</font></td>\n",
      "<td bgcolor=\"#F9F9F9\" width=\"80%\"> <font face=\"arial\" size=\"2\"> XAN-001-PA</font></td>\n",
      "</tr>\n",
      "<tr>\n",
      "<td bgcolor=\"#F9F9F9\" width=\"20%\"> <font face=\"arial\" size=\"2\">Data da Instalação:</font></td>\n",
      "<td bgcolor=\"#F9F9F9\" width=\"80%\"> <font face=\"arial\" size=\"2\"> </font></td>\n",
      "</tr>\n",
      "<tr>\n",
      "<td bgcolor=\"#F9F9F9\" width=\"20%\"> <font face=\"arial\" size=\"2\">Proprietário:</font></td>\n",
      "<td bgcolor=\"#F9F9F9\" width=\"80%\"> <font face=\"arial\" size=\"2\"> Alberto  César  Jaime da  Fonseca</font></td>\n",
      "</tr>\n",
      "<tr>\n",
      "<td bgcolor=\"#F9F9F9\" width=\"20%\"> <font face=\"arial\" size=\"2\">Natureza do Ponto:</font></td>\n",
      "<td bgcolor=\"#F9F9F9\" width=\"80%\"> <font face=\"arial\" size=\"2\"> Poço tubular</font></td>\n",
      "</tr>\n",
      "<tr>\n",
      "<td bgcolor=\"#F9F9F9\" width=\"20%\"> <font face=\"arial\" size=\"2\">Uso da Água:</font></td>\n",
      "<td bgcolor=\"#F9F9F9\" width=\"80%\"> <font face=\"arial\" size=\"2\"> Abastecimento doméstico</font></td>\n",
      "</tr>\n",
      "<tr>\n",
      "<td bgcolor=\"#F9F9F9\" width=\"20%\"> <font face=\"arial\" size=\"2\">Cota do Terreno (m):</font></td>\n",
      "<td bgcolor=\"#F9F9F9\" width=\"80%\"> <font face=\"arial\" size=\"2\"> 0</font></td>\n",
      "</tr>\n",
      "<tr>\n",
      "<td width=\"20%\"><font face=\"arial\" size=\"2\"><b>Localização:</b></font></td>\n",
      "<td width=\"80%\"></td>\n",
      "</tr>\n",
      "<tr>\n",
      "<td bgcolor=\"#F9F9F9\" width=\"20%\"> <font face=\"arial\" size=\"2\">Localidade:</font></td>\n",
      "<td bgcolor=\"#F9F9F9\" width=\"80%\"> <font face=\"arial\" size=\"2\"> Ananindeua</font></td>\n",
      "</tr>\n",
      "<tr>\n",
      "<td bgcolor=\"#F9F9F9\" width=\"20%\"> <font face=\"arial\" size=\"2\">UTM (Norte/Sul):</font></td>\n",
      "<td bgcolor=\"#F9F9F9\" width=\"80%\"> <font face=\"arial\" size=\"2\"> 9847983</font></td>\n",
      "</tr>\n",
      "<tr>\n",
      "<td bgcolor=\"#F9F9F9\" width=\"20%\"> <font face=\"arial\" size=\"2\">UTM (Leste/Oeste):</font></td>\n",
      "<td bgcolor=\"#F9F9F9\" width=\"80%\"> <font face=\"arial\" size=\"2\"> 788245</font></td>\n",
      "</tr>\n",
      "<tr>\n",
      "<td bgcolor=\"#F9F9F9\" width=\"20%\"> <font face=\"arial\" size=\"2\">Latitude (GGMMSS):</font></td>\n",
      "<td bgcolor=\"#F9F9F9\" width=\"80%\"> <font face=\"arial\" size=\"2\"> 012226</font></td>\n",
      "</tr>\n",
      "<tr>\n",
      "<td bgcolor=\"#F9F9F9\" width=\"20%\"> <font face=\"arial\" size=\"2\">Longitude (GGMMSS):</font></td>\n",
      "<td bgcolor=\"#F9F9F9\" width=\"80%\"> <font face=\"arial\" size=\"2\"> 482435</font></td>\n",
      "</tr>\n",
      "<tr>\n",
      "<td bgcolor=\"#F9F9F9\" width=\"20%\"> <font face=\"arial\" size=\"2\">Bacia Hidrográfica:</font></td>\n",
      "<td bgcolor=\"#F9F9F9\" width=\"80%\"> <font face=\"arial\" size=\"2\"> Atlantico Sul-N/NE</font></td>\n",
      "</tr>\n",
      "<tr>\n",
      "<td bgcolor=\"#F9F9F9\" width=\"20%\"> <font face=\"arial\" size=\"2\">Subbacia Hidrográfica:</font></td>\n",
      "<td bgcolor=\"#F9F9F9\" width=\"80%\"> <font face=\"arial\" size=\"2\"> Rios Gurupi, Turiaçu e outros</font></td>\n",
      "</tr>\n",
      "<tr>\n",
      "<td width=\"20%\"><font face=\"arial\" size=\"2\"><b>Situação:</b></font></td>\n",
      "<td width=\"80%\"></td>\n",
      "</tr>\n",
      "<!-- Imprime os campos Data e Situa��o -->\n",
      "<tr>\n",
      "</tr>\n",
      "<!-- Caso existam valores, ent�o faz um loop para imprimi-los na tela -->\n",
      "<tr>\n",
      "<td bgcolor=\"#F9F9F9\" width=\"20%\"> <font face=\"arial\" size=\"2\">Data:</font></td>\n",
      "<td bgcolor=\"#F9F9F9\" width=\"80%\"> <font face=\"arial\" size=\"2\"> 05/04/1995</font></td>\n",
      "</tr>\n",
      "<td bgcolor=\"#F9F9F9\" width=\"20%\"> <font face=\"arial\" size=\"2\">Situação:</font></td>\n",
      "<td bgcolor=\"#F9F9F9\" width=\"80%\"> <font face=\"arial\" size=\"2\"> Equipado</font></td>\n",
      "</table>\n",
      "</td>\n",
      "</tr>\n",
      "</tbody>\n",
      "</table>\n"
     ]
    }
   ],
   "source": [
    "print(tabelas[0])"
   ]
  }
 ],
 "metadata": {
  "kernelspec": {
   "display_name": ".venv",
   "language": "python",
   "name": "python3"
  },
  "language_info": {
   "codemirror_mode": {
    "name": "ipython",
    "version": 3
   },
   "file_extension": ".py",
   "mimetype": "text/x-python",
   "name": "python",
   "nbconvert_exporter": "python",
   "pygments_lexer": "ipython3",
   "version": "3.11.6"
  }
 },
 "nbformat": 4,
 "nbformat_minor": 2
}
