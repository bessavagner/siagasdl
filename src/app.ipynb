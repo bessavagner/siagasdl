{
 "cells": [
  {
   "cell_type": "code",
   "execution_count": 1,
   "metadata": {},
   "outputs": [],
   "source": [
    "%load_ext autoreload\n",
    "%autoreload 2"
   ]
  },
  {
   "cell_type": "markdown",
   "metadata": {},
   "source": [
    "# Coletor de dados SiagasWeb\n",
    "\n",
    "Por enquanto, apenas a busca apenas por bacia está implementada"
   ]
  },
  {
   "cell_type": "code",
   "execution_count": 3,
   "metadata": {},
   "outputs": [],
   "source": [
    "from siagasdl import SiagasCollector"
   ]
  },
  {
   "cell_type": "markdown",
   "metadata": {},
   "source": [
    "## Como buscar todos os dados para uma bacia?\n",
    "\n",
    "1. Veja no arquivo `sr/siagasdl/constants.py` o nome correto das bacias, ou importe `siagasdl.constants.BACIAS`:"
   ]
  },
  {
   "cell_type": "code",
   "execution_count": 14,
   "metadata": {},
   "outputs": [
    {
     "name": "stdout",
     "output_type": "stream",
     "text": [
      "0: Atlantico Sul-Leste\n",
      "1: Atlantico Sul-N/NE\n",
      "2: Atlantico Sul-Sudeste\n",
      "3: Rio Amazonas\n",
      "4: Rio Parana\n",
      "5: Rio São Francisco\n",
      "6: Rio Tocantins\n",
      "7: Rio Uruguai\n"
     ]
    }
   ],
   "source": [
    "from siagasdl.constants import BACIAS\n",
    "\n",
    "for idx, bacia in enumerate(BACIAS):\n",
    "    print(f\"{idx}: {bacia}\")"
   ]
  },
  {
   "cell_type": "markdown",
   "metadata": {},
   "source": [
    "2. crie um objeto da classe `SiagasCollector`\n",
    "\n",
    "3. Execute o método `busca_por_bacia`. Os argumentos são:\n",
    "\n",
    "- bacia : str\n",
    "\n",
    "\n",
    "    O nome da bacia hidrográfica a ser pesquisada.\n",
    "- inicio : int, opcional\n",
    "\n",
    "\n",
    "    A página inicial para a coleta de dados, por padrão 1.\n",
    "- fim : int, opcional\n",
    "\n",
    "\n",
    "    A página final para a coleta de dados, por padrão None.\n",
    "    Se nenhum for fornecido, todas as páginas serão coletadas.\n",
    "\n",
    "4. Ao terminar, você erá um arquivo salvo com o nome similar à bacia selecionada, e de extensão .txt."
   ]
  },
  {
   "cell_type": "code",
   "execution_count": 10,
   "metadata": {},
   "outputs": [],
   "source": [
    "baixador = SiagasCollector()\n",
    "# note que BACIAS[1] tem valor 'Atlantico Sul-N/NE'\n",
    "baixador.busca_por_bacia(BACIAS[1], fim=10)"
   ]
  },
  {
   "cell_type": "markdown",
   "metadata": {},
   "source": [
    "5. Caso a coleta encerrre em algum ponto e deseje continuar, use o método `continua_busca_por_bacia`, fornecendo o arquivo .txt como primeiro argumento. Os argumentos desse método são:\n",
    "\n",
    "- filename : str\n",
    "  \n",
    "    O nome do arquivo contendo os links a serem continuados.\n",
    "- bacia : str\n",
    "  \n",
    "    O nome da bacia hidrográfica a ser pesquisada.\n",
    "- fim : int, opcional\n",
    "  \n",
    "    A página final para a coleta de dados, por padrão None."
   ]
  },
  {
   "cell_type": "code",
   "execution_count": 12,
   "metadata": {},
   "outputs": [
    {
     "name": "stderr",
     "output_type": "stream",
     "text": [
      "INFO: Iniciando a coleta.\n",
      "INFO: Número de resultados: 4953; começando por: 10\n",
      "INFO: Coletando dados até a página 10\n"
     ]
    }
   ],
   "source": [
    "baixador.continua_busca_por_bacia(\n",
    "    'Atlantico_Sul_N_NE.txt', bacia=BACIAS[1], fim = 20\n",
    ")"
   ]
  },
  {
   "cell_type": "markdown",
   "metadata": {},
   "source": [
    "6. Para evitar \"vazamento de mémórias\" (quando variáveis não são retiradas da memória RAM após o programa encerrar), sempre encerre o coletor chamando o método `close`."
   ]
  },
  {
   "cell_type": "code",
   "execution_count": 9,
   "metadata": {},
   "outputs": [],
   "source": [
    "baixador.close()"
   ]
  }
 ],
 "metadata": {
  "kernelspec": {
   "display_name": ".venv",
   "language": "python",
   "name": "python3"
  },
  "language_info": {
   "codemirror_mode": {
    "name": "ipython",
    "version": 3
   },
   "file_extension": ".py",
   "mimetype": "text/x-python",
   "name": "python",
   "nbconvert_exporter": "python",
   "pygments_lexer": "ipython3",
   "version": "3.11.6"
  }
 },
 "nbformat": 4,
 "nbformat_minor": 2
}
